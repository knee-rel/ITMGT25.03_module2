{
 "cells": [
  {
   "cell_type": "markdown",
   "id": "809de209",
   "metadata": {},
   "source": [
    "# Module 2 Exercises"
   ]
  },
  {
   "cell_type": "markdown",
   "id": "47dc07e5",
   "metadata": {},
   "source": [
    "Problem Specification:\n",
    "\n",
    "Create a Python program that takes two integer inputs from the user and performs several arithmetic operations on them. The program should calculate the sum, difference, product, integer division, and modulus of the two numbers, and output the results.\n",
    "\n",
    "Inputs:\n",
    "- The program should prompt the user to enter the first integer.\n",
    "- The program should prompt the user to enter the second integer.\n",
    "\n",
    "Outputs:\n",
    "- The program should output the sum of the two integers.\n",
    "- The program should output the difference between the second integer and the first integer.\n",
    "- The program should output the product of the two integers.\n",
    "- The program should output the result of integer division (quotient) of the first integer divided by the second integer.\n",
    "- The program should output the remainder (modulus) when the first integer is divided by the second integer.\n",
    "\n",
    "Example:\n",
    "```\n",
    "Enter the first number: 7\n",
    "Enter the second number: 3\n",
    "Sum: 10\n",
    "Difference: -4\n",
    "Product: 21\n",
    "Integer Division: 2\n",
    "Modulus: 1\n",
    "```\n",
    "\n",
    "Note:\n",
    "- The program should handle valid integer inputs for both numbers.\n",
    "- The program should handle division by zero and provide appropriate error handling or messaging.\n",
    "- The program should consider both positive and negative numbers as inputs and provide correct results for the operations.\n",
    "- The output values should be displayed clearly with appropriate labeling for each operation."
   ]
  },
  {
   "cell_type": "code",
   "execution_count": 3,
   "id": "ed368a4e",
   "metadata": {},
   "outputs": [],
   "source": [
    "#Begin writing your code here"
   ]
  },
  {
   "cell_type": "markdown",
   "id": "46106d10",
   "metadata": {},
   "source": [
    "Problem Specification:\n",
    "\n",
    "Write a Python program that prompts the user for an input unit of measure, two integers, and calculates the sum of the two integers. The program should then output the total sum followed by the unit of measure.\n",
    "\n",
    "Inputs:\n",
    "- The program should prompt the user to enter a unit of measure as a string. The input should be limited to 99 characters and any leading or trailing spaces should be removed.\n",
    "\n",
    "- The program should prompt the user to enter the first integer.\n",
    "\n",
    "- The program should prompt the user to enter the second integer.\n",
    "\n",
    "Outputs:\n",
    "- The program should output the sum of the two integers as an integer value.\n",
    "\n",
    "- The program should output the unit of measure entered by the user, without any leading or trailing spaces.\n",
    "\n",
    "Example:\n",
    "```\n",
    "Enter unit of measure: kilograms\n",
    "Enter first number: 5\n",
    "Enter second number: 10\n",
    "15 kilograms\n",
    "```\n",
    "\n",
    "Note:\n",
    "- The input unit of measure should be limited to 99 characters and any leading or trailing spaces should be removed.\n",
    "\n",
    "- The program should handle valid integer inputs for the first and second numbers.\n",
    "\n",
    "- The program should handle various unit of measure inputs, such as words, abbreviations, or symbols, entered by the user."
   ]
  },
  {
   "cell_type": "code",
   "execution_count": 4,
   "id": "288587dd",
   "metadata": {},
   "outputs": [],
   "source": [
    "#Begin writing code here"
   ]
  },
  {
   "cell_type": "markdown",
   "id": "19417f95",
   "metadata": {},
   "source": [
    "Write a Python program that takes a positive integer input from the user and calculates the sum of its individual digits. The program should convert the input number to a string, iterate over each character, convert it back to an integer, and finally calculate the sum of those integers.\n",
    "\n",
    "Inputs:\n",
    "\n",
    "The program should prompt the user to enter a positive integer.\n",
    "Outputs:\n",
    "\n",
    "The program should output the sum of the individual digits of the input number.\n",
    "Example:\n",
    "\n",
    "mathematica\n",
    "Copy code\n",
    "Enter a positive integer: 12345\n",
    "Sum of digits: 15\n",
    "Note:\n",
    "\n",
    "The program should handle valid positive integer inputs.\n",
    "The program should correctly calculate the sum of digits, even if the input number has leading zeros.\n",
    "The program should handle larger numbers with multiple digits.\n",
    "The output should clearly indicate the sum of the digits."
   ]
  },
  {
   "cell_type": "code",
   "execution_count": 6,
   "id": "834da644",
   "metadata": {},
   "outputs": [],
   "source": [
    "#Begin writing code here"
   ]
  }
 ],
 "metadata": {
  "kernelspec": {
   "display_name": "Python 3 (ipykernel)",
   "language": "python",
   "name": "python3"
  },
  "language_info": {
   "codemirror_mode": {
    "name": "ipython",
    "version": 3
   },
   "file_extension": ".py",
   "mimetype": "text/x-python",
   "name": "python",
   "nbconvert_exporter": "python",
   "pygments_lexer": "ipython3",
   "version": "3.9.13"
  }
 },
 "nbformat": 4,
 "nbformat_minor": 5
}

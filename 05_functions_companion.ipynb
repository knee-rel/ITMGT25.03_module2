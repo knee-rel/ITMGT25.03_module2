{
 "cells": [
  {
   "cell_type": "markdown",
   "id": "be0dbb9a",
   "metadata": {},
   "source": [
    "## Functions in Python"
   ]
  },
  {
   "cell_type": "code",
   "execution_count": 3,
   "id": "37311007",
   "metadata": {},
   "outputs": [
    {
     "name": "stdout",
     "output_type": "stream",
     "text": [
      "hello\n"
     ]
    }
   ],
   "source": [
    "def say_hello():\n",
    "\n",
    "    print('hello')\n",
    "\n",
    "#calling a function with ()\n",
    "say_hello()"
   ]
  },
  {
   "cell_type": "code",
   "execution_count": 5,
   "id": "335d80c1",
   "metadata": {},
   "outputs": [
    {
     "data": {
      "text/plain": [
       "<function __main__.say_hello()>"
      ]
     },
     "execution_count": 5,
     "metadata": {},
     "output_type": "execute_result"
    }
   ],
   "source": [
    "#without parenthesis\n",
    "say_hello"
   ]
  },
  {
   "cell_type": "markdown",
   "id": "d4e497d2",
   "metadata": {},
   "source": [
    "** always include () to make the function run! **"
   ]
  },
  {
   "cell_type": "markdown",
   "id": "1e49a7c3",
   "metadata": {},
   "source": [
    "### Accepting parameters or arguments"
   ]
  },
  {
   "cell_type": "code",
   "execution_count": null,
   "id": "b684b96c",
   "metadata": {},
   "outputs": [],
   "source": [
    "def greeting(name):\n",
    "\n",
    "    print(f'Hello {name}')\n",
    "\n",
    "#calling the function and passing a parameter inside\n",
    "greeting('Steve Rogers')"
   ]
  },
  {
   "cell_type": "markdown",
   "id": "9f87a5a6",
   "metadata": {},
   "source": [
    "### Using Return"
   ]
  },
  {
   "cell_type": "code",
   "execution_count": 8,
   "id": "2b3fa08e",
   "metadata": {},
   "outputs": [
    {
     "data": {
      "text/plain": [
       "9"
      ]
     },
     "execution_count": 8,
     "metadata": {},
     "output_type": "execute_result"
    }
   ],
   "source": [
    "def add_num(num1,num2):\n",
    "\n",
    "    return num1+num2\n",
    "\n",
    "add_num(4,5)"
   ]
  },
  {
   "cell_type": "code",
   "execution_count": 9,
   "id": "3bd98cf2",
   "metadata": {},
   "outputs": [
    {
     "name": "stdout",
     "output_type": "stream",
     "text": [
      "9\n"
     ]
    }
   ],
   "source": [
    "# Can also save as variable due to return\n",
    "\n",
    "result = add_num(4,5)\n",
    "\n",
    "print(result)"
   ]
  },
  {
   "cell_type": "code",
   "execution_count": 10,
   "id": "543e02cb",
   "metadata": {},
   "outputs": [
    {
     "data": {
      "text/plain": [
       "'onetwo'"
      ]
     },
     "execution_count": 10,
     "metadata": {},
     "output_type": "execute_result"
    }
   ],
   "source": [
    "#two strings\n",
    "add_num('one','two')"
   ]
  },
  {
   "cell_type": "markdown",
   "id": "4a029bc4",
   "metadata": {},
   "source": [
    "** More on the Functions Page of Module 2 in the Course Notion Page **"
   ]
  }
 ],
 "metadata": {
  "kernelspec": {
   "display_name": "Python 3 (ipykernel)",
   "language": "python",
   "name": "python3"
  },
  "language_info": {
   "codemirror_mode": {
    "name": "ipython",
    "version": 3
   },
   "file_extension": ".py",
   "mimetype": "text/x-python",
   "name": "python",
   "nbconvert_exporter": "python",
   "pygments_lexer": "ipython3",
   "version": "3.9.13"
  }
 },
 "nbformat": 4,
 "nbformat_minor": 5
}

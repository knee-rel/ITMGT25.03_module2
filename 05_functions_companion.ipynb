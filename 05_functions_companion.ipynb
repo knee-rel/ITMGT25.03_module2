{
 "cells": [
  {
   "cell_type": "markdown",
   "id": "77530542",
   "metadata": {},
   "source": [
    "## Functions in Python"
   ]
  },
  {
   "cell_type": "code",
   "execution_count": 3,
   "id": "27be0895",
   "metadata": {},
   "outputs": [
    {
     "name": "stdout",
     "output_type": "stream",
     "text": [
      "hello\n"
     ]
    }
   ],
   "source": [
    "def say_hello():\n",
    "\n",
    "    print('hello')\n",
    "\n",
    "#calling a function with ()\n",
    "say_hello()"
   ]
  },
  {
   "cell_type": "code",
   "execution_count": 5,
   "id": "06256990",
   "metadata": {},
   "outputs": [
    {
     "data": {
      "text/plain": [
       "<function __main__.say_hello()>"
      ]
     },
     "execution_count": 5,
     "metadata": {},
     "output_type": "execute_result"
    }
   ],
   "source": [
    "#without parenthesis\n",
    "say_hello"
   ]
  },
  {
   "cell_type": "markdown",
   "id": "f5594d7b",
   "metadata": {},
   "source": [
    "** always include () to make the function run! **"
   ]
  },
  {
   "cell_type": "markdown",
   "id": "1dc2c117",
   "metadata": {},
   "source": [
    "### Accepting parameters or arguments"
   ]
  },
  {
   "cell_type": "code",
   "execution_count": null,
   "id": "117360f2",
   "metadata": {},
   "outputs": [],
   "source": [
    "def greeting(name):\n",
    "\n",
    "    print(f'Hello {name}')\n",
    "\n",
    "#calling the function and passing a parameter inside\n",
    "greeting('Steve Rogers')"
   ]
  },
  {
   "cell_type": "markdown",
   "id": "03864894",
   "metadata": {},
   "source": [
    "### Using Return"
   ]
  },
  {
   "cell_type": "code",
   "execution_count": null,
   "id": "7374af72",
   "metadata": {},
   "outputs": [],
   "source": []
  }
 ],
 "metadata": {
  "kernelspec": {
   "display_name": "Python 3 (ipykernel)",
   "language": "python",
   "name": "python3"
  },
  "language_info": {
   "codemirror_mode": {
    "name": "ipython",
    "version": 3
   },
   "file_extension": ".py",
   "mimetype": "text/x-python",
   "name": "python",
   "nbconvert_exporter": "python",
   "pygments_lexer": "ipython3",
   "version": "3.9.13"
  }
 },
 "nbformat": 4,
 "nbformat_minor": 5
}

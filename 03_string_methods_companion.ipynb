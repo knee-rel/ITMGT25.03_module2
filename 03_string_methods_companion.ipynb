{
 "cells": [
  {
   "cell_type": "markdown",
   "id": "4fecfcb4",
   "metadata": {},
   "source": [
    "## String Methods"
   ]
  },
  {
   "cell_type": "markdown",
   "id": "8aae777a",
   "metadata": {},
   "source": [
    "### Standard Methods for Strings"
   ]
  },
  {
   "cell_type": "code",
   "execution_count": 2,
   "id": "76b85d0e",
   "metadata": {},
   "outputs": [
    {
     "name": "stdout",
     "output_type": "stream",
     "text": [
      "8\n"
     ]
    }
   ],
   "source": [
    "name = \"Wakawaka\"\n",
    "\n",
    "print(len(name))"
   ]
  },
  {
   "cell_type": "code",
   "execution_count": 2,
   "id": "250cac71",
   "metadata": {},
   "outputs": [
    {
     "name": "stdout",
     "output_type": "stream",
     "text": [
      "8\n"
     ]
    },
    {
     "data": {
      "text/plain": [
       "8"
      ]
     },
     "execution_count": 2,
     "metadata": {},
     "output_type": "execute_result"
    }
   ],
   "source": [
    "name = \"Wakawaka\"\n",
    "\n",
    "print(len(name))\n",
    "\n",
    "len(name)"
   ]
  },
  {
   "cell_type": "code",
   "execution_count": 4,
   "id": "c08960c7",
   "metadata": {},
   "outputs": [
    {
     "name": "stdout",
     "output_type": "stream",
     "text": [
      "6\n",
      "3\n",
      "-1\n"
     ]
    }
   ],
   "source": [
    "#finds the first occurence of the specified value\n",
    "#same as index but returns -1 if value is unfound\n",
    "name = \"Angelika\"\n",
    "print(name.find(\"k\"))\n",
    "\n",
    "print(name.find(\"e\"))\n",
    "\n",
    "print(name.find(\"z\"))"
   ]
  },
  {
   "cell_type": "code",
   "execution_count": 6,
   "id": "be7fdaa2",
   "metadata": {},
   "outputs": [
    {
     "name": "stdout",
     "output_type": "stream",
     "text": [
      "Harley\n",
      "Ibarra\n"
     ]
    }
   ],
   "source": [
    "name = \"harley\"\n",
    "print(name.capitalize())\n",
    "\n",
    "last_name = \"Ibarra\"\n",
    "print(last_name.capitalize())"
   ]
  },
  {
   "cell_type": "code",
   "execution_count": 7,
   "id": "bf696852",
   "metadata": {},
   "outputs": [
    {
     "name": "stdout",
     "output_type": "stream",
     "text": [
      "HARLEY\n"
     ]
    }
   ],
   "source": [
    "print(name.upper())"
   ]
  },
  {
   "cell_type": "code",
   "execution_count": 8,
   "id": "eb62ae44",
   "metadata": {},
   "outputs": [
    {
     "name": "stdout",
     "output_type": "stream",
     "text": [
      "alpha\n"
     ]
    }
   ],
   "source": [
    "name = \"ALPHA\"\n",
    "print(name.lower())"
   ]
  },
  {
   "cell_type": "code",
   "execution_count": 10,
   "id": "c59e7b8a",
   "metadata": {},
   "outputs": [
    {
     "name": "stdout",
     "output_type": "stream",
     "text": [
      "True\n"
     ]
    }
   ],
   "source": [
    "#to check if name is containing only alphabets\n",
    "print(name.isalpha())"
   ]
  },
  {
   "cell_type": "code",
   "execution_count": 7,
   "id": "53f566cb",
   "metadata": {},
   "outputs": [
    {
     "name": "stdout",
     "output_type": "stream",
     "text": [
      "False\n"
     ]
    }
   ],
   "source": [
    "string_example = \"3wrniovns324jm\"\n",
    "print(string_example.isalpha())"
   ]
  },
  {
   "cell_type": "code",
   "execution_count": 15,
   "id": "bc6d3d65",
   "metadata": {},
   "outputs": [
    {
     "name": "stdout",
     "output_type": "stream",
     "text": [
      "Autanamy\n"
     ]
    }
   ],
   "source": [
    "name = \"Autonomy\"\n",
    "print(name.replace(\"o\", \"a\"))"
   ]
  },
  {
   "cell_type": "code",
   "execution_count": 9,
   "id": "cfb4fec6",
   "metadata": {},
   "outputs": [
    {
     "name": "stdout",
     "output_type": "stream",
     "text": [
      "Monster Truct Idt\n"
     ]
    }
   ],
   "source": [
    "boat_name = \"Monster Truck Idk\"\n",
    "print(boat_name.replace(\"k\", \"t\"))"
   ]
  },
  {
   "cell_type": "code",
   "execution_count": 19,
   "id": "7b299ed9",
   "metadata": {},
   "outputs": [
    {
     "name": "stdout",
     "output_type": "stream",
     "text": [
      "AutonomyAutonomyAutonomyAutonomy\n"
     ]
    }
   ],
   "source": [
    "print(name*4)"
   ]
  },
  {
   "cell_type": "code",
   "execution_count": 18,
   "id": "ad6fc0f5",
   "metadata": {},
   "outputs": [
    {
     "name": "stdout",
     "output_type": "stream",
     "text": [
      "Autonomy Autonomy Autonomy Autonomy \n"
     ]
    }
   ],
   "source": [
    "print((name + \" \") * 4)"
   ]
  },
  {
   "cell_type": "code",
   "execution_count": 11,
   "id": "090fd8f8",
   "metadata": {},
   "outputs": [
    {
     "name": "stdout",
     "output_type": "stream",
     "text": [
      "I am eating Carrot\n"
     ]
    }
   ],
   "source": [
    "menu = \"Carrot\"\n",
    "\n",
    "my_food = print(\"I am eating \" + menu)"
   ]
  },
  {
   "cell_type": "markdown",
   "id": "bbe47db7",
   "metadata": {},
   "source": [
    "### String Formatting"
   ]
  },
  {
   "cell_type": "code",
   "execution_count": 3,
   "id": "bfa8d442",
   "metadata": {},
   "outputs": [
    {
     "name": "stdout",
     "output_type": "stream",
     "text": [
      "I'm going to inject something here.\n"
     ]
    }
   ],
   "source": [
    "#Using placeholders\n",
    "print(\"I'm going to inject %s here.\" %'something')"
   ]
  },
  {
   "cell_type": "code",
   "execution_count": 4,
   "id": "0504026b",
   "metadata": {},
   "outputs": [
    {
     "name": "stdout",
     "output_type": "stream",
     "text": [
      "I'm going to inject some text here, and more text here.\n"
     ]
    }
   ],
   "source": [
    "#Another example of using placeholders\n",
    "print(\"I'm going to inject %s text here, and %s text here.\" %('some','more'))"
   ]
  },
  {
   "cell_type": "markdown",
   "id": "cec319c9",
   "metadata": {},
   "source": [
    "** See more on Print Formatting with Strings Notion Page of Module 2 **"
   ]
  },
  {
   "cell_type": "markdown",
   "id": "c84eb984",
   "metadata": {},
   "source": [
    "### Using the .format() method"
   ]
  },
  {
   "cell_type": "code",
   "execution_count": 5,
   "id": "60167502",
   "metadata": {},
   "outputs": [
    {
     "name": "stdout",
     "output_type": "stream",
     "text": [
      "This is a string with an insert\n"
     ]
    }
   ],
   "source": [
    "print('This is a string with an {}'.format('insert'))"
   ]
  },
  {
   "cell_type": "markdown",
   "id": "b807a9ce",
   "metadata": {},
   "source": [
    "** See more on Print Formatting with Strings Notion Page of Module 2 **"
   ]
  },
  {
   "cell_type": "markdown",
   "id": "4b075e2a",
   "metadata": {},
   "source": [
    "### Using Formatted String Literals"
   ]
  },
  {
   "cell_type": "code",
   "execution_count": 7,
   "id": "d659fd0b",
   "metadata": {},
   "outputs": [
    {
     "name": "stdout",
     "output_type": "stream",
     "text": [
      "He said his name is Fred.\n"
     ]
    }
   ],
   "source": [
    "name = 'Fred'\n",
    "\n",
    "print(f\"He said his name is {name}.\")"
   ]
  },
  {
   "cell_type": "code",
   "execution_count": 12,
   "id": "bb9c30c8",
   "metadata": {},
   "outputs": [
    {
     "name": "stdout",
     "output_type": "stream",
     "text": [
      "I want to eat some Baguette\n"
     ]
    }
   ],
   "source": [
    "food = \"Baguette\"\n",
    "\n",
    "print(f\"I want to eat some {food}\")"
   ]
  },
  {
   "cell_type": "markdown",
   "id": "9c17f44d",
   "metadata": {},
   "source": [
    "** See more on Print Formatting with Strings Notion Page of Module 2 **"
   ]
  }
 ],
 "metadata": {
  "kernelspec": {
   "display_name": "Python 3 (ipykernel)",
   "language": "python",
   "name": "python3"
  },
  "language_info": {
   "codemirror_mode": {
    "name": "ipython",
    "version": 3
   },
   "file_extension": ".py",
   "mimetype": "text/x-python",
   "name": "python",
   "nbconvert_exporter": "python",
   "pygments_lexer": "ipython3",
   "version": "3.9.13"
  }
 },
 "nbformat": 4,
 "nbformat_minor": 5
}

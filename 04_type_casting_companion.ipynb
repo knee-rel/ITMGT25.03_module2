{
 "cells": [
  {
   "cell_type": "markdown",
   "id": "e0c4309d",
   "metadata": {},
   "source": [
    "## Type Casting Guide"
   ]
  },
  {
   "cell_type": "markdown",
   "id": "7f328689",
   "metadata": {},
   "source": [
    "### Coverting to integer"
   ]
  },
  {
   "cell_type": "code",
   "execution_count": 4,
   "id": "38f697d3",
   "metadata": {},
   "outputs": [
    {
     "name": "stdout",
     "output_type": "stream",
     "text": [
      "5\n",
      "6\n",
      "3\n"
     ]
    }
   ],
   "source": [
    "x = 5\n",
    "y = 6.0\n",
    "z = \"3\"\n",
    "\n",
    "new_x = int(x)\n",
    "new_y = int(y)\n",
    "new_z = int(z)\n",
    "print(new_x)\n",
    "print(new_y)\n",
    "print(new_z)"
   ]
  },
  {
   "cell_type": "markdown",
   "id": "92d58f63",
   "metadata": {},
   "source": [
    "### Coverting to Float"
   ]
  },
  {
   "cell_type": "code",
   "execution_count": 5,
   "id": "c3acd21b",
   "metadata": {},
   "outputs": [
    {
     "name": "stdout",
     "output_type": "stream",
     "text": [
      "21.0\n",
      "343.23\n",
      "4.0\n",
      "7.45\n"
     ]
    }
   ],
   "source": [
    "a = 21\n",
    "b = 343.23\n",
    "c = \"4\"\n",
    "d = \"7.45\"\n",
    "\n",
    "new_a = print(float(a))\n",
    "new_b = print(float(b))\n",
    "new_c = print(float(c))\n",
    "new_d = print(float(d))"
   ]
  },
  {
   "cell_type": "markdown",
   "id": "e16f38c7",
   "metadata": {},
   "source": [
    "### Converting to String"
   ]
  },
  {
   "cell_type": "code",
   "execution_count": 6,
   "id": "ae3f1cfe",
   "metadata": {},
   "outputs": [
    {
     "name": "stdout",
     "output_type": "stream",
     "text": [
      "sd44\n",
      "2\n",
      "6.0\n"
     ]
    }
   ],
   "source": [
    "h = \"sd44\"\n",
    "i = 2\n",
    "j = 6.0\n",
    "\n",
    "new_h = print(str(h))\n",
    "new_i = print(str(i))\n",
    "new_j = print(str(j))"
   ]
  }
 ],
 "metadata": {
  "kernelspec": {
   "display_name": "Python 3 (ipykernel)",
   "language": "python",
   "name": "python3"
  },
  "language_info": {
   "codemirror_mode": {
    "name": "ipython",
    "version": 3
   },
   "file_extension": ".py",
   "mimetype": "text/x-python",
   "name": "python",
   "nbconvert_exporter": "python",
   "pygments_lexer": "ipython3",
   "version": "3.9.13"
  }
 },
 "nbformat": 4,
 "nbformat_minor": 5
}

{
 "cells": [
  {
   "cell_type": "markdown",
   "id": "fd8f98f2",
   "metadata": {},
   "source": [
    "## Input"
   ]
  },
  {
   "cell_type": "markdown",
   "id": "c6080ad0",
   "metadata": {},
   "source": [
    "### Basic User Input"
   ]
  },
  {
   "cell_type": "code",
   "execution_count": null,
   "id": "a0080f6c",
   "metadata": {},
   "outputs": [],
   "source": [
    "name = input(\"Enter your name: \")\n",
    "print(\"Hello, \" + name + \"!\")\n",
    "\n",
    "age = input(\"Enter your age: \")\n",
    "print(\"You are \" + age + \" years old.\")"
   ]
  },
  {
   "cell_type": "markdown",
   "id": "41e508a6",
   "metadata": {},
   "source": [
    "### Multiple Inputs"
   ]
  },
  {
   "cell_type": "code",
   "execution_count": null,
   "id": "fd3d9ac5",
   "metadata": {},
   "outputs": [],
   "source": [
    "num1 = int(input(\"Enter the first number: \"))\n",
    "num2 = int(input(\"Enter the second number: \"))\n",
    "sum = num1 + num2\n",
    "print(\"The sum of\", num1, \"and\", num2, \"is\", sum)"
   ]
  },
  {
   "cell_type": "markdown",
   "id": "5b0fd14d",
   "metadata": {},
   "source": [
    "### Convert Celsius to Fahrenheit"
   ]
  },
  {
   "cell_type": "code",
   "execution_count": null,
   "id": "37cf9d15",
   "metadata": {},
   "outputs": [],
   "source": [
    "celsius = float(input(\"Enter the temperature in Celsius: \"))\n",
    "fahrenheit = (celsius * 9/5) + 32\n",
    "print(\"The temperature in Fahrenheit is:\", fahrenheit)"
   ]
  },
  {
   "cell_type": "markdown",
   "id": "3dc73f16",
   "metadata": {},
   "source": [
    "### Determine the Maximum of Three Numbers"
   ]
  },
  {
   "cell_type": "code",
   "execution_count": null,
   "id": "03ff8090",
   "metadata": {},
   "outputs": [],
   "source": [
    "num1 = int(input(\"Enter the first number: \"))\n",
    "num2 = int(input(\"Enter the second number: \"))\n",
    "num3 = int(input(\"Enter the third number: \"))\n",
    "\n",
    "maximum = max(num1, num2, num3)\n",
    "print(\"The maximum number is:\", maximum)"
   ]
  },
  {
   "cell_type": "markdown",
   "id": "bb95d3d7",
   "metadata": {},
   "source": [
    "### Print a Triangle of Asterisks"
   ]
  },
  {
   "cell_type": "code",
   "execution_count": null,
   "id": "db6caebc",
   "metadata": {},
   "outputs": [],
   "source": [
    "rows = int(input(\"Enter the number of rows: \"))\n",
    "\n",
    "for i in range(1, rows + 1):\n",
    "    print(\"*\" * i)"
   ]
  }
 ],
 "metadata": {
  "kernelspec": {
   "display_name": "Python 3 (ipykernel)",
   "language": "python",
   "name": "python3"
  },
  "language_info": {
   "codemirror_mode": {
    "name": "ipython",
    "version": 3
   },
   "file_extension": ".py",
   "mimetype": "text/x-python",
   "name": "python",
   "nbconvert_exporter": "python",
   "pygments_lexer": "ipython3",
   "version": "3.9.13"
  }
 },
 "nbformat": 4,
 "nbformat_minor": 5
}

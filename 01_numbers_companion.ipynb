{
 "cells": [
  {
   "cell_type": "markdown",
   "id": "1f41a047",
   "metadata": {},
   "source": [
    "## The Numbers Guide"
   ]
  },
  {
   "cell_type": "markdown",
   "id": "34756317",
   "metadata": {},
   "source": [
    "### Basic Arithmetic"
   ]
  },
  {
   "cell_type": "code",
   "execution_count": 4,
   "id": "cd33d9c5",
   "metadata": {},
   "outputs": [
    {
     "data": {
      "text/plain": [
       "29"
      ]
     },
     "execution_count": 4,
     "metadata": {},
     "output_type": "execute_result"
    }
   ],
   "source": [
    "# Addition\n",
    "13+16"
   ]
  },
  {
   "cell_type": "code",
   "execution_count": 5,
   "id": "6d12f92e",
   "metadata": {},
   "outputs": [
    {
     "data": {
      "text/plain": [
       "112"
      ]
     },
     "execution_count": 5,
     "metadata": {},
     "output_type": "execute_result"
    }
   ],
   "source": [
    "# Subtraction\n",
    "133-21"
   ]
  },
  {
   "cell_type": "code",
   "execution_count": 6,
   "id": "f292bc9c",
   "metadata": {},
   "outputs": [
    {
     "data": {
      "text/plain": [
       "1.5"
      ]
     },
     "execution_count": 6,
     "metadata": {},
     "output_type": "execute_result"
    }
   ],
   "source": [
    "# Division\n",
    "3/2"
   ]
  },
  {
   "cell_type": "code",
   "execution_count": 7,
   "id": "2b295f00",
   "metadata": {},
   "outputs": [
    {
     "data": {
      "text/plain": [
       "1"
      ]
     },
     "execution_count": 7,
     "metadata": {},
     "output_type": "execute_result"
    }
   ],
   "source": [
    "# Floor Division\n",
    "7//4"
   ]
  },
  {
   "cell_type": "markdown",
   "id": "8f95d483",
   "metadata": {},
   "source": [
    "** Floor Division - truncates the decimal without rounding, returns an integer result **"
   ]
  },
  {
   "cell_type": "code",
   "execution_count": 8,
   "id": "ffa0b563",
   "metadata": {},
   "outputs": [
    {
     "data": {
      "text/plain": [
       "2"
      ]
     },
     "execution_count": 8,
     "metadata": {},
     "output_type": "execute_result"
    }
   ],
   "source": [
    "# Modulo - to get the remainder\n",
    "10%4"
   ]
  },
  {
   "cell_type": "markdown",
   "id": "a07bb7a5",
   "metadata": {},
   "source": [
    "### Arithmetic continued"
   ]
  },
  {
   "cell_type": "code",
   "execution_count": 9,
   "id": "49758ce9",
   "metadata": {},
   "outputs": [],
   "source": [
    "# Powers"
   ]
  },
  {
   "cell_type": "code",
   "execution_count": 10,
   "id": "5db83fcc",
   "metadata": {},
   "outputs": [],
   "source": [
    "# Roots"
   ]
  },
  {
   "cell_type": "code",
   "execution_count": 12,
   "id": "5f35b389",
   "metadata": {},
   "outputs": [
    {
     "data": {
      "text/plain": [
       "105"
      ]
     },
     "execution_count": 12,
     "metadata": {},
     "output_type": "execute_result"
    }
   ],
   "source": [
    "# Order of Operations \n",
    "2 + 10 * 10 + 3"
   ]
  },
  {
   "cell_type": "code",
   "execution_count": 13,
   "id": "14139570",
   "metadata": {},
   "outputs": [
    {
     "data": {
      "text/plain": [
       "156"
      ]
     },
     "execution_count": 13,
     "metadata": {},
     "output_type": "execute_result"
    }
   ],
   "source": [
    "# Can use parentheses to specify orders\n",
    "(2+10) * (10+3)"
   ]
  },
  {
   "cell_type": "markdown",
   "id": "25743839",
   "metadata": {},
   "source": [
    "### Q & A"
   ]
  },
  {
   "cell_type": "markdown",
   "id": "a6f29b80",
   "metadata": {},
   "source": [
    "What's the difference between floating point and an integer?\n",
    "\n",
    "** An integer has no decimals in it, a floating point number can display digits past the decimal point. **"
   ]
  },
  {
   "cell_type": "markdown",
   "id": "b35b79a5",
   "metadata": {},
   "source": [
    "Why doesn't 0.1+0.2-0.3 equal 0.0 ?\n",
    "\n",
    "** This has to do with floating point accuracy and computer's abilities to represent numbers in memory. **"
   ]
  }
 ],
 "metadata": {
  "kernelspec": {
   "display_name": "Python 3 (ipykernel)",
   "language": "python",
   "name": "python3"
  },
  "language_info": {
   "codemirror_mode": {
    "name": "ipython",
    "version": 3
   },
   "file_extension": ".py",
   "mimetype": "text/x-python",
   "name": "python",
   "nbconvert_exporter": "python",
   "pygments_lexer": "ipython3",
   "version": "3.9.13"
  }
 },
 "nbformat": 4,
 "nbformat_minor": 5
}

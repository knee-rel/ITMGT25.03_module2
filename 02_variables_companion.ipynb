{
 "cells": [
  {
   "cell_type": "markdown",
   "id": "f26ca609",
   "metadata": {},
   "source": [
    "## Variables – Explained"
   ]
  },
  {
   "cell_type": "code",
   "execution_count": 2,
   "id": "e3cd3a16",
   "metadata": {},
   "outputs": [
    {
     "name": "stdout",
     "output_type": "stream",
     "text": [
      "22\n"
     ]
    }
   ],
   "source": [
    "b = 10\n",
    "\n",
    "b = 22\n",
    "\n",
    "print(b)"
   ]
  },
  {
   "cell_type": "markdown",
   "id": "637c1b8a",
   "metadata": {},
   "source": [
    "### Using String as Variables"
   ]
  },
  {
   "cell_type": "code",
   "execution_count": 3,
   "id": "4eb152ae",
   "metadata": {},
   "outputs": [
    {
     "name": "stdout",
     "output_type": "stream",
     "text": [
      "Hello Natasha Romanoff\n"
     ]
    }
   ],
   "source": [
    "first_name = \"Natasha\"\n",
    "last_name = \"Romanoff\"\n",
    "full_name = first_name + \" \" + last_name\n",
    "print(\"Hello \" + full_name)"
   ]
  },
  {
   "cell_type": "code",
   "execution_count": 5,
   "id": "7532ff3a",
   "metadata": {},
   "outputs": [
    {
     "name": "stdout",
     "output_type": "stream",
     "text": [
      "<class 'str'>\n"
     ]
    }
   ],
   "source": [
    "print(type(full_name))"
   ]
  },
  {
   "cell_type": "markdown",
   "id": "a2f85ec2",
   "metadata": {},
   "source": [
    "### Using Integers as Variables"
   ]
  },
  {
   "cell_type": "code",
   "execution_count": 6,
   "id": "78d43a9b",
   "metadata": {},
   "outputs": [
    {
     "name": "stdout",
     "output_type": "stream",
     "text": [
      "User's age is 23\n"
     ]
    }
   ],
   "source": [
    "age = 21\n",
    "age += 2\n",
    "# age = age + 2\n",
    "print(\"User's age is \" + str(age))"
   ]
  },
  {
   "cell_type": "code",
   "execution_count": 3,
   "id": "a8bc37f8",
   "metadata": {},
   "outputs": [
    {
     "ename": "TypeError",
     "evalue": "can only concatenate str (not \"int\") to str",
     "output_type": "error",
     "traceback": [
      "\u001b[0;31m---------------------------------------------------------------------------\u001b[0m",
      "\u001b[0;31mTypeError\u001b[0m                                 Traceback (most recent call last)",
      "\u001b[0;32m/var/folders/s_/g35dflcd3117zq9zl6_y4pl40000gn/T/ipykernel_1199/2402151154.py\u001b[0m in \u001b[0;36m<module>\u001b[0;34m\u001b[0m\n\u001b[1;32m      2\u001b[0m \u001b[0mage\u001b[0m \u001b[0;34m+=\u001b[0m \u001b[0;36m2\u001b[0m\u001b[0;34m\u001b[0m\u001b[0;34m\u001b[0m\u001b[0m\n\u001b[1;32m      3\u001b[0m \u001b[0;31m# age = age + 2\u001b[0m\u001b[0;34m\u001b[0m\u001b[0;34m\u001b[0m\u001b[0m\n\u001b[0;32m----> 4\u001b[0;31m \u001b[0mprint\u001b[0m\u001b[0;34m(\u001b[0m\u001b[0;34m\"User's age is \"\u001b[0m \u001b[0;34m+\u001b[0m \u001b[0mage\u001b[0m\u001b[0;34m)\u001b[0m\u001b[0;34m\u001b[0m\u001b[0;34m\u001b[0m\u001b[0m\n\u001b[0m",
      "\u001b[0;31mTypeError\u001b[0m: can only concatenate str (not \"int\") to str"
     ]
    }
   ],
   "source": [
    "age = 21\n",
    "age += 2\n",
    "# age = age + 2\n",
    "print(\"User's age is \" + age)"
   ]
  },
  {
   "cell_type": "code",
   "execution_count": 7,
   "id": "93c894a1",
   "metadata": {},
   "outputs": [
    {
     "name": "stdout",
     "output_type": "stream",
     "text": [
      "<class 'int'>\n"
     ]
    }
   ],
   "source": [
    "print(type(age))"
   ]
  },
  {
   "cell_type": "markdown",
   "id": "332906cc",
   "metadata": {},
   "source": [
    "### Using Float as Variables"
   ]
  },
  {
   "cell_type": "code",
   "execution_count": 11,
   "id": "5f2b8263",
   "metadata": {},
   "outputs": [
    {
     "name": "stdout",
     "output_type": "stream",
     "text": [
      "23.56\n",
      "The volume is 23.56\n"
     ]
    }
   ],
   "source": [
    "volume = 23.56\n",
    "print(volume)\n",
    "print(\"The volume is \" + str(volume))"
   ]
  },
  {
   "cell_type": "code",
   "execution_count": 9,
   "id": "6dd0d99c",
   "metadata": {},
   "outputs": [
    {
     "name": "stdout",
     "output_type": "stream",
     "text": [
      "<class 'float'>\n"
     ]
    }
   ],
   "source": [
    "print(type(volume))"
   ]
  },
  {
   "cell_type": "markdown",
   "id": "572acdeb",
   "metadata": {},
   "source": [
    "### Using Boolean as Variables"
   ]
  },
  {
   "cell_type": "code",
   "execution_count": 12,
   "id": "5329f5ef",
   "metadata": {},
   "outputs": [
    {
     "name": "stdout",
     "output_type": "stream",
     "text": [
      "Are you sleepy? True\n",
      "True\n"
     ]
    }
   ],
   "source": [
    "sleepy = True\n",
    "print(\"Are you sleepy? \" + str(sleepy))\n",
    "print(sleepy)"
   ]
  },
  {
   "cell_type": "code",
   "execution_count": 13,
   "id": "3f2c649f",
   "metadata": {},
   "outputs": [
    {
     "name": "stdout",
     "output_type": "stream",
     "text": [
      "<class 'bool'>\n"
     ]
    }
   ],
   "source": [
    "print(type(sleepy))"
   ]
  }
 ],
 "metadata": {
  "kernelspec": {
   "display_name": "Python 3 (ipykernel)",
   "language": "python",
   "name": "python3"
  },
  "language_info": {
   "codemirror_mode": {
    "name": "ipython",
    "version": 3
   },
   "file_extension": ".py",
   "mimetype": "text/x-python",
   "name": "python",
   "nbconvert_exporter": "python",
   "pygments_lexer": "ipython3",
   "version": "3.9.13"
  }
 },
 "nbformat": 4,
 "nbformat_minor": 5
}
